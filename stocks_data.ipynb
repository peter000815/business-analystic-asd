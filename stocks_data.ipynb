{
  "nbformat": 4,
  "nbformat_minor": 0,
  "metadata": {
    "colab": {
      "name": "stocks data.ipynb",
      "provenance": [],
      "collapsed_sections": [],
      "authorship_tag": "ABX9TyM5PTXi/lo7OsofkGqUIozU",
      "include_colab_link": true
    },
    "kernelspec": {
      "name": "python3",
      "display_name": "Python 3"
    },
    "language_info": {
      "name": "python"
    }
  },
  "cells": [
    {
      "cell_type": "markdown",
      "metadata": {
        "id": "view-in-github",
        "colab_type": "text"
      },
      "source": [
        "<a href=\"https://colab.research.google.com/github/peter000815/business-analystic-asd/blob/master/stocks_data.ipynb\" target=\"_parent\"><img src=\"https://colab.research.google.com/assets/colab-badge.svg\" alt=\"Open In Colab\"/></a>"
      ]
    },
    {
      "cell_type": "code",
      "metadata": {
        "id": "IN8wonQPfHVJ"
      },
      "source": [
        "import requests\n",
        "import pprint\n",
        "import csv\n",
        "\n",
        "file = open('data.csv',mode='a',encoding='utf-8',newline='')\n",
        "csv_write=csv.DictWriter(file,fieldnames=['股票代码','股票名称','当前价','涨跌额','涨跌幅','年初至今','成交量','成交额','换手率','市盈率','股息率','市值'])\n",
        "csv_write.writeheader()\n",
        " \n",
        "for page in range(1,153):\n",
        "    \n",
        "    url='https://xueqiu.com/service/v5/stock/screener/quote/list?page={}&size=30&order=desc&orderby=percent&order_by=percent&market=CN&type=sh_sz&_=1627868234312'.format(str(page))\n",
        "    headers={'User-Agent': 'Mozilla/5.0 (Macintosh; Intel Mac OS X 10_15_7) AppleWebKit/537.36 (KHTML, like Gecko) Chrome/92.0.4515.107 Safari/537.36'}\n",
        "    response=requests.get(url=url,headers=headers)\n",
        "    json_data=response.json()\n",
        "    #pprint.pprint(json_data)\n",
        "    data_list = json_data['data']['list']\n",
        "    \n",
        "    for data in data_list:\n",
        "      #print(data)\n",
        "      data1=data['symbol']\n",
        "      data2=data['name']\n",
        "      data3=data['current']\n",
        "      data4=data['chg']\n",
        "      if data4:\n",
        "        if float(data4)>0:\n",
        "          data4=\"+\"+ str(data4)\n",
        "        else:\n",
        "          data4=str(data4)\n",
        "      data5=str(data['percent'])+\"%\"\n",
        "      data6=str(data['current_year_percent'])+\"%\"\n",
        "      data7=data['volume']\n",
        "      data8=data['amount']\n",
        "      data9=str(data['turnover_rate'])+\"%\"\n",
        "      data10=data['pe_ttm']\n",
        "      data11=data['dividend_yield']\n",
        "      if data11:\n",
        "        data11=str(data['dividend_yield'])+\"%\"\n",
        "      else:\n",
        "        data11=None\n",
        "      data12=data['market_capital']\n",
        "      #print(data1,data2,data3,data4,data5,data6,data7,data8,data9,data10,data11,data12)\n",
        "      data_dict={\"股票代码\":data1,'股票名称':data2,'当前价':data3,'涨跌额':data4,'涨跌幅':data5,'年初至今':data6,'成交量':data7,'成交额':data8,'换手率':data9,'市盈率':data10,'股息率':data11,'市值':data12}\n",
        "      #print(data_dict)\n",
        "      csv_write.writerow(data_dict)"
      ],
      "execution_count": null,
      "outputs": []
    }
  ]
}